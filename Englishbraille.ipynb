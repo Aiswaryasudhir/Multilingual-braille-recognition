{
 "cells": [
  {
   "cell_type": "code",
   "execution_count": 2,
   "id": "d9c50004",
   "metadata": {},
   "outputs": [],
   "source": [
    "import numpy as np \n",
    "import pandas as pd \n",
    "import os\n",
    "import matplotlib.pyplot as plt\n",
    "import seaborn as sns\n",
    "import tensorflow as tf\n",
    "from tensorflow import keras\n",
    "from pathlib import Path\n",
    "from sklearn.preprocessing import LabelEncoder\n",
    "import PIL\n",
    "import cv2\n",
    "from shutil import copyfile"
   ]
  },
  {
   "cell_type": "code",
   "execution_count": 3,
   "id": "2db359e5",
   "metadata": {},
   "outputs": [],
   "source": [
    "image_dir = Path('/content/Braille Dataset2')"
   ]
  },
  {
   "cell_type": "code",
   "execution_count": 4,
   "id": "cb9a892d",
   "metadata": {},
   "outputs": [],
   "source": [
    "dir_list = list(image_dir.glob('*.jpg')) "
   ]
  },
  {
   "cell_type": "code",
   "execution_count": 5,
   "id": "b32e203a",
   "metadata": {},
   "outputs": [
    {
     "data": {
      "text/plain": [
       "1560"
      ]
     },
     "execution_count": 5,
     "metadata": {},
     "output_type": "execute_result"
    }
   ],
   "source": [
    "image_count = len(dir_list)\n",
    "image_count"
   ]
  },
  {
   "cell_type": "code",
   "execution_count": 6,
   "id": "fe89f7ce",
   "metadata": {},
   "outputs": [],
   "source": [
    "name_list = []\n",
    "\n",
    "for i in dir_list:\n",
    "    name_list.append(os.path.basename(i)[0])\n",
    "# getting names of folder"
   ]
  },
  {
   "cell_type": "code",
   "execution_count": 7,
   "id": "184badfe",
   "metadata": {},
   "outputs": [],
   "source": [
    "images = []\n",
    "for dir in dir_list:\n",
    "    I = cv2.imread(str(dir))\n",
    "    images.append(I)\n",
    "# converting to rgb 3d matrix"
   ]
  },
  {
   "cell_type": "code",
   "execution_count": 8,
   "id": "3957b102",
   "metadata": {},
   "outputs": [],
   "source": [
    "images_list = np.array(images)\n",
    "name_list = np.array(name_list).T\n",
    "#using numpy and converting to array"
   ]
  },
  {
   "cell_type": "code",
   "execution_count": 9,
   "id": "89d46d64",
   "metadata": {},
   "outputs": [
    {
     "name": "stdout",
     "output_type": "stream",
     "text": [
      "[[[1.         1.         1.        ]\n",
      "  [1.         1.         1.        ]\n",
      "  [1.         1.         1.        ]\n",
      "  ...\n",
      "  [0.98823529 0.98823529 0.98823529]\n",
      "  [0.99607843 0.99607843 0.99607843]\n",
      "  [1.         1.         1.        ]]\n",
      "\n",
      " [[0.99607843 0.99607843 0.99607843]\n",
      "  [1.         1.         1.        ]\n",
      "  [1.         1.         1.        ]\n",
      "  ...\n",
      "  [0.99607843 0.99607843 0.99607843]\n",
      "  [1.         1.         1.        ]\n",
      "  [1.         1.         1.        ]]\n",
      "\n",
      " [[0.99215686 0.99215686 0.99215686]\n",
      "  [1.         1.         1.        ]\n",
      "  [1.         1.         1.        ]\n",
      "  ...\n",
      "  [1.         1.         1.        ]\n",
      "  [1.         1.         1.        ]\n",
      "  [1.         1.         1.        ]]\n",
      "\n",
      " ...\n",
      "\n",
      " [[1.         1.         1.        ]\n",
      "  [1.         1.         1.        ]\n",
      "  [1.         1.         1.        ]\n",
      "  ...\n",
      "  [1.         1.         1.        ]\n",
      "  [1.         1.         1.        ]\n",
      "  [1.         1.         1.        ]]\n",
      "\n",
      " [[1.         1.         1.        ]\n",
      "  [1.         1.         1.        ]\n",
      "  [1.         1.         1.        ]\n",
      "  ...\n",
      "  [1.         1.         1.        ]\n",
      "  [1.         1.         1.        ]\n",
      "  [1.         1.         1.        ]]\n",
      "\n",
      " [[1.         1.         1.        ]\n",
      "  [1.         1.         1.        ]\n",
      "  [1.         1.         1.        ]\n",
      "  ...\n",
      "  [1.         1.         1.        ]\n",
      "  [1.         1.         1.        ]\n",
      "  [1.         1.         1.        ]]]\n"
     ]
    }
   ],
   "source": [
    "le = LabelEncoder()\n",
    "name_list = le.fit_transform(name_list)\n",
    "\n",
    "#covert image to 0 to 255 (pixel information)\n",
    "images_list = images_list / 255.0 \n",
    "print(images_list[1])"
   ]
  },
  {
   "cell_type": "code",
   "execution_count": 10,
   "id": "8e502fb4",
   "metadata": {},
   "outputs": [
    {
     "data": {
      "text/plain": [
       "<matplotlib.image.AxesImage at 0x1af15392c10>"
      ]
     },
     "execution_count": 10,
     "metadata": {},
     "output_type": "execute_result"
    },
    {
     "data": {
      "image/png": "[encoded data removed]",
      "text/plain": [
       "<Figure size 432x288 with 1 Axes>"
      ]
     },
     "metadata": {
      "needs_background": "light"
     },
     "output_type": "display_data"
    }
   ],
   "source": [
    "plt.imshow(images_list[1])"
   ]
  },
  {
   "cell_type": "code",
   "execution_count": 11,
   "id": "baf7b2ce",
   "metadata": {},
   "outputs": [],
   "source": [
    "from sklearn.model_selection import train_test_split\n",
    "X_train, X_test, y_train, y_test = train_test_split(images_list, name_list, test_size=0.2, random_state=42)"
   ]
  },
  {
   "cell_type": "code",
   "execution_count": null,
   "id": "69d16424",
   "metadata": {},
   "outputs": [],
   "source": []
  },
  {
   "cell_type": "code",
   "execution_count": 12,
   "id": "0a39a570",
   "metadata": {},
   "outputs": [],
   "source": [
    "model = keras.Sequential([\n",
    "    keras.layers.Conv2D(filters=64, kernel_size=(5, 5), padding='same', activation='relu'),\n",
    "    keras.layers.Conv2D(filters=64, kernel_size=(3, 3), padding='same', activation='relu'),\n",
    "    keras.layers.MaxPooling2D(),\n",
    "    keras.layers.Conv2D(filters=64, kernel_size=(3, 3), padding='same', activation='relu'),\n",
    "    keras.layers.MaxPooling2D(),\n",
    "    keras.layers.Conv2D(filters=64, kernel_size=(3, 3), padding='same', activation='relu'),\n",
    "    keras.layers.MaxPooling2D(),\n",
    "    keras.layers.Flatten(),\n",
    "    keras.layers.Dense(units=576, activation=\"relu\"),\n",
    "    keras.layers.Dense(units=288, activation=\"relu\"),\n",
    "    keras.layers.Dense(units=26, activation=\"softmax\") #output layer\n",
    "])\n"
   ]
  },
  {
   "cell_type": "code",
   "execution_count": 13,
   "id": "fdc27ae2",
   "metadata": {},
   "outputs": [],
   "source": [
    "model.compile(optimizer=\"Adam\", loss=\"SparseCategoricalCrossentropy\", metrics=[\"sparse_categorical_accuracy\"])\n"
   ]
  },
  {
   "cell_type": "code",
   "execution_count": 14,
   "id": "0e801118",
   "metadata": {},
   "outputs": [],
   "source": [
    "from keras.callbacks import EarlyStopping"
   ]
  },
  {
   "cell_type": "code",
   "execution_count": 15,
   "id": "b3904207",
   "metadata": {},
   "outputs": [
    {
     "name": "stdout",
     "output_type": "stream",
     "text": [
      "Epoch 1/100\n",
      "28/28 [==============================] - 11s 219ms/step - loss: 3.2610 - sparse_categorical_accuracy: 0.0332 - val_loss: 3.2415 - val_sparse_categorical_accuracy: 0.0320\n",
      "Epoch 2/100\n",
      "28/28 [==============================] - 5s 180ms/step - loss: 2.6234 - sparse_categorical_accuracy: 0.2440 - val_loss: 1.8542 - val_sparse_categorical_accuracy: 0.4747\n",
      "Epoch 3/100\n",
      "28/28 [==============================] - 5s 181ms/step - loss: 1.4500 - sparse_categorical_accuracy: 0.6048 - val_loss: 1.1151 - val_sparse_categorical_accuracy: 0.6933\n",
      "Epoch 4/100\n",
      "28/28 [==============================] - 5s 176ms/step - loss: 0.8476 - sparse_categorical_accuracy: 0.7342 - val_loss: 0.9632 - val_sparse_categorical_accuracy: 0.7173\n",
      "Epoch 5/100\n",
      "28/28 [==============================] - 5s 182ms/step - loss: 0.5007 - sparse_categorical_accuracy: 0.8534 - val_loss: 0.8789 - val_sparse_categorical_accuracy: 0.7813\n",
      "Epoch 6/100\n",
      "28/28 [==============================] - 5s 172ms/step - loss: 0.3155 - sparse_categorical_accuracy: 0.9107 - val_loss: 0.8022 - val_sparse_categorical_accuracy: 0.7973\n",
      "Epoch 7/100\n",
      "28/28 [==============================] - 5s 184ms/step - loss: 0.1783 - sparse_categorical_accuracy: 0.9404 - val_loss: 0.7026 - val_sparse_categorical_accuracy: 0.8293\n",
      "Epoch 8/100\n",
      "28/28 [==============================] - 5s 174ms/step - loss: 0.1767 - sparse_categorical_accuracy: 0.9542 - val_loss: 0.9680 - val_sparse_categorical_accuracy: 0.8080\n",
      "Epoch 9/100\n",
      "28/28 [==============================] - 5s 169ms/step - loss: 0.0663 - sparse_categorical_accuracy: 0.9828 - val_loss: 0.8243 - val_sparse_categorical_accuracy: 0.8533\n",
      "Epoch 10/100\n",
      "28/28 [==============================] - 5s 175ms/step - loss: 0.0719 - sparse_categorical_accuracy: 0.9851 - val_loss: 0.6943 - val_sparse_categorical_accuracy: 0.8613\n",
      "Epoch 11/100\n",
      "28/28 [==============================] - 5s 169ms/step - loss: 0.0427 - sparse_categorical_accuracy: 0.9931 - val_loss: 0.7939 - val_sparse_categorical_accuracy: 0.8267\n",
      "Epoch 12/100\n",
      "28/28 [==============================] - 5s 184ms/step - loss: 0.0940 - sparse_categorical_accuracy: 0.9805 - val_loss: 0.7187 - val_sparse_categorical_accuracy: 0.8480\n",
      "Epoch 13/100\n",
      "28/28 [==============================] - 5s 182ms/step - loss: 0.0776 - sparse_categorical_accuracy: 0.9851 - val_loss: 0.8379 - val_sparse_categorical_accuracy: 0.8373\n",
      "Epoch 14/100\n",
      "28/28 [==============================] - 5s 182ms/step - loss: 0.0331 - sparse_categorical_accuracy: 0.9954 - val_loss: 0.7933 - val_sparse_categorical_accuracy: 0.8427\n",
      "Epoch 15/100\n",
      "28/28 [==============================] - 5s 182ms/step - loss: 0.0132 - sparse_categorical_accuracy: 0.9954 - val_loss: 1.0674 - val_sparse_categorical_accuracy: 0.8160\n",
      "Epoch 16/100\n",
      "28/28 [==============================] - 5s 184ms/step - loss: 0.0496 - sparse_categorical_accuracy: 0.9908 - val_loss: 0.7699 - val_sparse_categorical_accuracy: 0.8320\n",
      "Epoch 17/100\n",
      "28/28 [==============================] - 5s 186ms/step - loss: 0.0425 - sparse_categorical_accuracy: 0.9908 - val_loss: 0.7518 - val_sparse_categorical_accuracy: 0.8560\n",
      "Epoch 18/100\n",
      "28/28 [==============================] - 5s 178ms/step - loss: 0.0078 - sparse_categorical_accuracy: 0.9977 - val_loss: 0.8051 - val_sparse_categorical_accuracy: 0.8560\n",
      "Epoch 19/100\n",
      "28/28 [==============================] - 5s 175ms/step - loss: 0.0020 - sparse_categorical_accuracy: 0.9989 - val_loss: 0.9057 - val_sparse_categorical_accuracy: 0.8560\n",
      "Epoch 20/100\n",
      "28/28 [==============================] - 5s 179ms/step - loss: 0.0337 - sparse_categorical_accuracy: 0.9931 - val_loss: 0.7512 - val_sparse_categorical_accuracy: 0.8427\n",
      "Epoch 21/100\n",
      "28/28 [==============================] - 5s 176ms/step - loss: 0.0395 - sparse_categorical_accuracy: 0.9840 - val_loss: 1.4471 - val_sparse_categorical_accuracy: 0.7893\n",
      "Epoch 22/100\n",
      "28/28 [==============================] - 5s 167ms/step - loss: 0.2079 - sparse_categorical_accuracy: 0.9530 - val_loss: 1.0197 - val_sparse_categorical_accuracy: 0.8240\n",
      "Epoch 23/100\n",
      "28/28 [==============================] - 5s 162ms/step - loss: 0.0771 - sparse_categorical_accuracy: 0.9782 - val_loss: 1.0495 - val_sparse_categorical_accuracy: 0.8000\n",
      "Epoch 24/100\n",
      "28/28 [==============================] - 5s 180ms/step - loss: 0.0647 - sparse_categorical_accuracy: 0.9851 - val_loss: 0.7028 - val_sparse_categorical_accuracy: 0.8533\n",
      "Epoch 25/100\n",
      "28/28 [==============================] - 5s 178ms/step - loss: 0.0401 - sparse_categorical_accuracy: 0.9908 - val_loss: 0.6875 - val_sparse_categorical_accuracy: 0.8480\n",
      "Epoch 26/100\n",
      "28/28 [==============================] - 5s 192ms/step - loss: 0.0072 - sparse_categorical_accuracy: 0.9977 - val_loss: 0.7019 - val_sparse_categorical_accuracy: 0.8587\n",
      "Epoch 27/100\n",
      "28/28 [==============================] - 5s 189ms/step - loss: 7.3862e-04 - sparse_categorical_accuracy: 1.0000 - val_loss: 0.7360 - val_sparse_categorical_accuracy: 0.8640\n",
      "Epoch 28/100\n",
      "28/28 [==============================] - 5s 175ms/step - loss: 2.6060e-04 - sparse_categorical_accuracy: 1.0000 - val_loss: 0.7550 - val_sparse_categorical_accuracy: 0.8587\n",
      "Epoch 29/100\n",
      "28/28 [==============================] - 5s 181ms/step - loss: 1.9193e-04 - sparse_categorical_accuracy: 1.0000 - val_loss: 0.7680 - val_sparse_categorical_accuracy: 0.8613\n",
      "Epoch 30/100\n",
      "28/28 [==============================] - 5s 173ms/step - loss: 1.5047e-04 - sparse_categorical_accuracy: 1.0000 - val_loss: 0.7773 - val_sparse_categorical_accuracy: 0.8613\n",
      "Epoch 31/100\n",
      "28/28 [==============================] - 5s 187ms/step - loss: 1.2510e-04 - sparse_categorical_accuracy: 1.0000 - val_loss: 0.7860 - val_sparse_categorical_accuracy: 0.8613\n",
      "Epoch 32/100\n",
      "28/28 [==============================] - 5s 188ms/step - loss: 1.0684e-04 - sparse_categorical_accuracy: 1.0000 - val_loss: 0.7938 - val_sparse_categorical_accuracy: 0.8613\n",
      "Epoch 33/100\n",
      "28/28 [==============================] - 5s 185ms/step - loss: 9.2345e-05 - sparse_categorical_accuracy: 1.0000 - val_loss: 0.8011 - val_sparse_categorical_accuracy: 0.8613\n",
      "Epoch 34/100\n",
      "28/28 [==============================] - 5s 164ms/step - loss: 8.1214e-05 - sparse_categorical_accuracy: 1.0000 - val_loss: 0.8084 - val_sparse_categorical_accuracy: 0.8613\n",
      "Epoch 35/100\n",
      "28/28 [==============================] - 4s 160ms/step - loss: 7.1882e-05 - sparse_categorical_accuracy: 1.0000 - val_loss: 0.8153 - val_sparse_categorical_accuracy: 0.8613\n",
      "Epoch 36/100\n",
      "28/28 [==============================] - 4s 142ms/step - loss: 6.4506e-05 - sparse_categorical_accuracy: 1.0000 - val_loss: 0.8219 - val_sparse_categorical_accuracy: 0.8640\n",
      "Epoch 37/100\n",
      "28/28 [==============================] - 5s 172ms/step - loss: 5.8265e-05 - sparse_categorical_accuracy: 1.0000 - val_loss: 0.8297 - val_sparse_categorical_accuracy: 0.8640\n",
      "Epoch 38/100\n",
      "28/28 [==============================] - 5s 172ms/step - loss: 5.2849e-05 - sparse_categorical_accuracy: 1.0000 - val_loss: 0.8365 - val_sparse_categorical_accuracy: 0.8667\n",
      "Epoch 39/100\n",
      "28/28 [==============================] - 5s 166ms/step - loss: 4.8273e-05 - sparse_categorical_accuracy: 1.0000 - val_loss: 0.8423 - val_sparse_categorical_accuracy: 0.8667\n",
      "Epoch 40/100\n",
      "28/28 [==============================] - 4s 155ms/step - loss: 4.4289e-05 - sparse_categorical_accuracy: 1.0000 - val_loss: 0.8484 - val_sparse_categorical_accuracy: 0.8667\n",
      "Epoch 41/100\n",
      "28/28 [==============================] - 4s 157ms/step - loss: 4.0961e-05 - sparse_categorical_accuracy: 1.0000 - val_loss: 0.8553 - val_sparse_categorical_accuracy: 0.8667\n",
      "Epoch 42/100\n",
      "28/28 [==============================] - 5s 171ms/step - loss: 3.7749e-05 - sparse_categorical_accuracy: 1.0000 - val_loss: 0.8603 - val_sparse_categorical_accuracy: 0.8667\n",
      "Epoch 43/100\n",
      "28/28 [==============================] - 5s 177ms/step - loss: 3.5080e-05 - sparse_categorical_accuracy: 1.0000 - val_loss: 0.8650 - val_sparse_categorical_accuracy: 0.8667\n",
      "Epoch 44/100\n",
      "28/28 [==============================] - 5s 180ms/step - loss: 3.2718e-05 - sparse_categorical_accuracy: 1.0000 - val_loss: 0.8696 - val_sparse_categorical_accuracy: 0.8667\n",
      "Epoch 45/100\n",
      "28/28 [==============================] - 5s 179ms/step - loss: 3.0599e-05 - sparse_categorical_accuracy: 1.0000 - val_loss: 0.8741 - val_sparse_categorical_accuracy: 0.8667\n"
     ]
    }
   ],
   "source": [
    "es1 = EarlyStopping(patience=20, monitor=\"val_sparse_categorical_accuracy\", mode=\"auto\")\n",
    "es2 = EarlyStopping(patience=20, monitor=\"val_loss\", mode=\"auto\")\n",
    "\n",
    "#The neural network will stop fitting if it gets 20 epochs without converge\n",
    "\n",
    "history = model.fit(x=X_train,\n",
    "                    y=y_train,\n",
    "                    epochs=100,\n",
    "                    validation_split=0.3,\n",
    "                    callbacks=[es1, es2])\n"
   ]
  },
  {
   "cell_type": "code",
   "execution_count": 16,
   "id": "3e9dcb7b",
   "metadata": {},
   "outputs": [
    {
     "data": {
      "text/plain": [
       "<matplotlib.legend.Legend at 0x1af1b0ceb50>"
      ]
     },
     "execution_count": 16,
     "metadata": {},
     "output_type": "execute_result"
    },
    {
     "data": {
      "image/png": "[encoded data removed]",
      "text/plain": [
       "<Figure size 432x288 with 1 Axes>"
      ]
     },
     "metadata": {
      "needs_background": "light"
     },
     "output_type": "display_data"
    }
   ],
   "source": [
    "time = np.arange(1, len(history.history['loss'])+1)\n",
    "sns.lineplot(data=history.history, x=time, y='loss')\n",
    "sns.lineplot(data=history.history, x=time, y='val_loss')\n",
    "plt.title('Loss fitting history')\n",
    "plt.legend(labels=['Loss', 'Validation loss'])"
   ]
  },
  {
   "cell_type": "code",
   "execution_count": 17,
   "id": "fab9632f",
   "metadata": {},
   "outputs": [
    {
     "data": {
      "text/plain": [
       "<matplotlib.legend.Legend at 0x1af1ce06160>"
      ]
     },
     "execution_count": 17,
     "metadata": {},
     "output_type": "execute_result"
    },
    {
     "data": {
      "image/png": "[encoded data removed]",
      "text/plain": [
       "<Figure size 432x288 with 1 Axes>"
      ]
     },
     "metadata": {
      "needs_background": "light"
     },
     "output_type": "display_data"
    }
   ],
   "source": [
    "sns.lineplot(data=history.history, x=time, y='val_sparse_categorical_accuracy')\n",
    "sns.lineplot(data=history.history, x=time, y='sparse_categorical_accuracy')\n",
    "plt.title('Accuracy fitting history')\n",
    "plt.legend(labels=['Accuracy', 'Valuation accuracy'])"
   ]
  },
  {
   "cell_type": "code",
   "execution_count": 18,
   "id": "8ff15c25",
   "metadata": {},
   "outputs": [
    {
     "name": "stdout",
     "output_type": "stream",
     "text": [
      "10/10 [==============================] - 1s 52ms/step - loss: 0.7870 - sparse_categorical_accuracy: 0.8878\n"
     ]
    },
    {
     "data": {
      "text/plain": [
       "[0.7869830131530762, 0.8878205418586731]"
      ]
     },
     "execution_count": 18,
     "metadata": {},
     "output_type": "execute_result"
    }
   ],
   "source": [
    "model.evaluate(X_test, y_test)"
   ]
  },
  {
   "cell_type": "code",
   "execution_count": 23,
   "id": "05172e5a",
   "metadata": {},
   "outputs": [
    {
     "name": "stdout",
     "output_type": "stream",
     "text": [
      "[[[ 69.  69.  69.]\n",
      "  [ 85.  85.  85.]\n",
      "  [104. 104. 104.]\n",
      "  ...\n",
      "  [106. 106. 106.]\n",
      "  [107. 107. 107.]\n",
      "  [ 51.  51.  51.]]\n",
      "\n",
      " [[ 86.  86.  86.]\n",
      "  [199. 199. 199.]\n",
      "  [255. 255. 255.]\n",
      "  ...\n",
      "  [255. 255. 255.]\n",
      "  [241. 241. 241.]\n",
      "  [126. 126. 126.]]\n",
      "\n",
      " [[ 87.  87.  87.]\n",
      "  [204. 204. 204.]\n",
      "  [253. 253. 253.]\n",
      "  ...\n",
      "  [255. 255. 255.]\n",
      "  [251. 251. 251.]\n",
      "  [113. 113. 113.]]\n",
      "\n",
      " ...\n",
      "\n",
      " [[ 86.  86.  86.]\n",
      "  [209. 209. 209.]\n",
      "  [255. 255. 255.]\n",
      "  ...\n",
      "  [254. 254. 254.]\n",
      "  [249. 249. 249.]\n",
      "  [120. 120. 120.]]\n",
      "\n",
      " [[ 82.  82.  82.]\n",
      "  [204. 204. 204.]\n",
      "  [255. 255. 255.]\n",
      "  ...\n",
      "  [254. 254. 254.]\n",
      "  [248. 248. 248.]\n",
      "  [128. 128. 128.]]\n",
      "\n",
      " [[ 74.  74.  74.]\n",
      "  [130. 130. 130.]\n",
      "  [162. 162. 162.]\n",
      "  ...\n",
      "  [156. 156. 156.]\n",
      "  [160. 160. 160.]\n",
      "  [ 64.  64.  64.]]]\n",
      "(28, 28, 3)\n",
      "1/1 [==============================] - 0s 59ms/step\n",
      "[16]\n"
     ]
    },
    {
     "data": {
      "image/png": "[encoded data removed]",
      "text/plain": [
       "<Figure size 432x288 with 1 Axes>"
      ]
     },
     "metadata": {
      "needs_background": "light"
     },
     "output_type": "display_data"
    }
   ],
   "source": [
    "from tensorflow.keras.preprocessing import image\n",
    "img=image.load_img('content/q.jpg',target_size=(28, 28,3))\n",
    "plt.imshow(img)\n",
    "\n",
    "x=image.img_to_array(img)\n",
    "print(x)\n",
    "\n",
    "print(x.shape)\n",
    "\n",
    "x=np.expand_dims(x,axis=0)\n",
    "prediciton=model.predict(x)\n",
    "a=np.argmax(prediciton, axis=1)\n",
    "print(a)"
   ]
  },
  {
   "cell_type": "code",
   "execution_count": 24,
   "id": "d4d00f0f",
   "metadata": {},
   "outputs": [
    {
     "name": "stdout",
     "output_type": "stream",
     "text": [
      "q\n"
     ]
    }
   ],
   "source": [
    "if a==[0]:\n",
    "  print('a')\n",
    "elif a==[1]:\n",
    "  print('b')\n",
    "elif a==[2]:\n",
    "  print('c')\n",
    "elif a==[3]:\n",
    "  print('d') \n",
    "elif a==[4]:\n",
    "  print('e')\n",
    "elif a==[5]:\n",
    "  print('f')\n",
    "elif a==[6]:\n",
    "  print('g')\n",
    "elif a==[7]:\n",
    "  print('h')\n",
    "elif a==[8]:\n",
    "  print('i')\n",
    "elif a==[9]:\n",
    "  print('j')\n",
    "elif a==[10]:\n",
    "  print('k')\n",
    "elif a==[11]:\n",
    "  print('l')\n",
    "elif a==[12]:\n",
    "  print('m')\n",
    "elif a==[13]:\n",
    "  print('n')\n",
    "elif a==[14]:\n",
    "  print('o')\n",
    "elif a==[15]:\n",
    "  print('p')\n",
    "elif a==[16]:\n",
    "  print('q')\n",
    "elif a==[17]:\n",
    "  print('r')\n",
    "elif a==[18]:\n",
    "  print('s')\n",
    "elif a==[19]:\n",
    "  print('t')\n",
    "elif a==[20]:\n",
    "  print('u')\n",
    "elif a==[21]:\n",
    "  print('v')\n",
    "elif a==[22]:\n",
    "  print('w')\n",
    "elif a==[23]:\n",
    "  print('x')\n",
    "elif a==[24]:\n",
    "  print('y')\n",
    "elif a==[25]:\n",
    "  print('z')"
   ]
  },
  {
   "cell_type": "code",
   "execution_count": 21,
   "id": "199a578a",
   "metadata": {},
   "outputs": [],
   "source": [
    "# model_json = model.to_json()\n",
    "# with open(\"model.json\", \"w\") as json_file:\n",
    "#     json_file.write(model_json)\n",
    "# keras_file=\"Model.h5\"\n",
    "# tf.keras.models.save_model(model,keras_file)"
   ]
  },
  {
   "cell_type": "code",
   "execution_count": null,
   "id": "41e705af",
   "metadata": {},
   "outputs": [],
   "source": []
  }
 ],
 "metadata": {
  "kernelspec": {
   "display_name": "Python 3 (ipykernel)",
   "language": "python",
   "name": "python3"
  },
  "language_info": {
   "codemirror_mode": {
    "name": "ipython",
    "version": 3
   },
   "file_extension": ".py",
   "mimetype": "text/x-python",
   "name": "python",
   "nbconvert_exporter": "python",
   "pygments_lexer": "ipython3",
   "version": "3.9.12"
  }
 },
 "nbformat": 4,
 "nbformat_minor": 5
}
