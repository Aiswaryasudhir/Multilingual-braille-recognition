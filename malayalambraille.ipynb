{
 "cells": [
  {
   "cell_type": "code",
   "execution_count": 1,
   "id": "d255662e",
   "metadata": {},
   "outputs": [],
   "source": [
    "import numpy as np \n",
    "import pandas as pd \n",
    "import os\n",
    "import matplotlib.pyplot as plt\n",
    "import seaborn as sns\n",
    "import tensorflow as tf\n",
    "from tensorflow import keras\n",
    "from pathlib import Path\n",
    "from sklearn.preprocessing import LabelEncoder\n",
    "import PIL\n",
    "import cv2\n",
    "from shutil import copyfile\n"
   ]
  },
  {
   "cell_type": "code",
   "execution_count": 12,
   "id": "9a492cc6",
   "metadata": {},
   "outputs": [],
   "source": [
    "# os.mkdir('./Brailleimagess/')\n",
    "\n",
    "# rootdir = 'content'\n",
    "# for file in os.listdir(rootdir):\n",
    "#     letter = file[0]\n",
    "#     for letter in os.listdir(rootdir+'/'+file):\n",
    "#         copyfile(rootdir+ '/'+ file +'/'+letter, './Brailleimages/'+letter)   "
   ]
  },
  {
   "cell_type": "code",
   "execution_count": 22,
   "id": "950f403c",
   "metadata": {},
   "outputs": [
    {
     "name": "stdout",
     "output_type": "stream",
     "text": [
      "Number of Images:600\n"
     ]
    }
   ],
   "source": [
    "image_dir = Path('C:/Users/AISWARYA/Desktop/MalayalamBrailleJupyter/content/MalayalamDataset2')\n",
    "\n",
    "dir_list = list(Path('C:/Users/AISWARYA/Desktop/MalayalamBrailleJupyter/content/MalayalamDataset2').glob('*.jpg'))\n",
    "image_count = len(dir_list)\n",
    "print(\"Number of Images:\"+str(image_count))"
   ]
  },
  {
   "cell_type": "code",
   "execution_count": 23,
   "id": "78ba0c79",
   "metadata": {},
   "outputs": [],
   "source": [
    "name_list = []\n",
    "for i in dir_list:\n",
    "    name_list.append(os.path.basename(i).split(\" \")[0])"
   ]
  },
  {
   "cell_type": "code",
   "execution_count": 24,
   "id": "1f6914a4",
   "metadata": {},
   "outputs": [],
   "source": [
    "images = []\n",
    "for dir in dir_list:\n",
    "    I = cv2.imread(str(dir))\n",
    "    images.append(I)\n"
   ]
  },
  {
   "cell_type": "code",
   "execution_count": 25,
   "id": "c246075f",
   "metadata": {},
   "outputs": [],
   "source": [
    "images_list = np.array(images)\n",
    "name_list = np.array(name_list).T"
   ]
  },
  {
   "cell_type": "code",
   "execution_count": 26,
   "id": "2e31b29c",
   "metadata": {},
   "outputs": [],
   "source": [
    "le = LabelEncoder()\n",
    "name_list = le.fit_transform(name_list)\n",
    "\n",
    "#covert image to 0 to 255 (pixel information)\n",
    "images_list = images_list / 255.0 \n"
   ]
  },
  {
   "cell_type": "code",
   "execution_count": 27,
   "id": "3e6f644c",
   "metadata": {},
   "outputs": [
    {
     "data": {
      "text/plain": [
       "<matplotlib.image.AxesImage at 0x1820fd87fd0>"
      ]
     },
     "execution_count": 27,
     "metadata": {},
     "output_type": "execute_result"
    },
    {
     "data": {
      "image/png": "[encoded data removed]",
      "text/plain": [
       "<Figure size 432x288 with 1 Axes>"
      ]
     },
     "metadata": {
      "needs_background": "light"
     },
     "output_type": "display_data"
    }
   ],
   "source": [
    "plt.imshow(images_list[1])"
   ]
  },
  {
   "cell_type": "code",
   "execution_count": 40,
   "id": "6c696424",
   "metadata": {},
   "outputs": [],
   "source": [
    "from sklearn.model_selection import train_test_split\n",
    "X_train, X_test, y_train, y_test = train_test_split(images_list, name_list, test_size=0.3, random_state=42)\n",
    "model = keras.Sequential([\n",
    "    keras.layers.Conv2D(filters=64, kernel_size=(5, 5), padding='same', activation='relu'),\n",
    "    keras.layers.Conv2D(filters=64, kernel_size=(3, 3), padding='same', activation='relu'),\n",
    "    keras.layers.MaxPooling2D(),\n",
    "    keras.layers.Conv2D(filters=64, kernel_size=(3, 3), padding='same', activation='relu'),\n",
    "    keras.layers.MaxPooling2D(),\n",
    "    keras.layers.Conv2D(filters=64, kernel_size=(3, 3), padding='same', activation='relu'),\n",
    "    keras.layers.MaxPooling2D(),\n",
    "    keras.layers.Conv2D(filters=64, kernel_size=(3, 3), padding='same', activation='relu'),\n",
    "    keras.layers.MaxPooling2D(),\n",
    "    keras.layers.Flatten(),\n",
    "    keras.layers.Dense(units=1024, activation=\"relu\",input_shape=(28,28,3)),\n",
    "    keras.layers.Dense(units=576, activation=\"relu\"),\n",
    "    keras.layers.Dense(units=288, activation=\"relu\"),\n",
    "    keras.layers.Dense(units=50, activation=\"softmax\") #output layer\n",
    "])"
   ]
  },
  {
   "cell_type": "code",
   "execution_count": 41,
   "id": "3e86333d",
   "metadata": {},
   "outputs": [],
   "source": [
    "model.compile(optimizer=\"Adam\", loss=\"SparseCategoricalCrossentropy\", metrics=[\"sparse_categorical_accuracy\"])"
   ]
  },
  {
   "cell_type": "code",
   "execution_count": 42,
   "id": "daead0ff",
   "metadata": {},
   "outputs": [
    {
     "name": "stdout",
     "output_type": "stream",
     "text": [
      "Epoch 1/200\n",
      "10/10 [==============================] - 8s 260ms/step - loss: 3.9201 - sparse_categorical_accuracy: 0.0136 - val_loss: 3.9125 - val_sparse_categorical_accuracy: 0.0238\n",
      "Epoch 2/200\n",
      "10/10 [==============================] - 2s 188ms/step - loss: 3.9082 - sparse_categorical_accuracy: 0.0238 - val_loss: 3.9270 - val_sparse_categorical_accuracy: 0.0159\n",
      "Epoch 3/200\n",
      "10/10 [==============================] - 2s 190ms/step - loss: 3.8905 - sparse_categorical_accuracy: 0.0204 - val_loss: 3.9355 - val_sparse_categorical_accuracy: 0.0238\n",
      "Epoch 4/200\n",
      "10/10 [==============================] - 2s 184ms/step - loss: 3.8564 - sparse_categorical_accuracy: 0.0306 - val_loss: 3.9001 - val_sparse_categorical_accuracy: 0.0159\n",
      "Epoch 5/200\n",
      "10/10 [==============================] - 2s 187ms/step - loss: 3.8229 - sparse_categorical_accuracy: 0.0510 - val_loss: 3.8239 - val_sparse_categorical_accuracy: 0.0397\n",
      "Epoch 6/200\n",
      "10/10 [==============================] - 2s 191ms/step - loss: 3.5737 - sparse_categorical_accuracy: 0.0816 - val_loss: 3.5743 - val_sparse_categorical_accuracy: 0.1032\n",
      "Epoch 7/200\n",
      "10/10 [==============================] - 2s 186ms/step - loss: 2.9374 - sparse_categorical_accuracy: 0.1565 - val_loss: 2.9470 - val_sparse_categorical_accuracy: 0.1746\n",
      "Epoch 8/200\n",
      "10/10 [==============================] - 2s 186ms/step - loss: 2.3329 - sparse_categorical_accuracy: 0.2551 - val_loss: 2.6164 - val_sparse_categorical_accuracy: 0.2063\n",
      "Epoch 9/200\n",
      "10/10 [==============================] - 2s 187ms/step - loss: 1.9185 - sparse_categorical_accuracy: 0.3741 - val_loss: 1.9069 - val_sparse_categorical_accuracy: 0.3968\n",
      "Epoch 10/200\n",
      "10/10 [==============================] - 2s 187ms/step - loss: 1.5967 - sparse_categorical_accuracy: 0.4422 - val_loss: 1.6930 - val_sparse_categorical_accuracy: 0.5714\n",
      "Epoch 11/200\n",
      "10/10 [==============================] - 2s 188ms/step - loss: 1.0503 - sparse_categorical_accuracy: 0.6327 - val_loss: 1.4040 - val_sparse_categorical_accuracy: 0.5794\n",
      "Epoch 12/200\n",
      "10/10 [==============================] - 2s 187ms/step - loss: 0.7369 - sparse_categorical_accuracy: 0.7585 - val_loss: 0.9604 - val_sparse_categorical_accuracy: 0.6905\n",
      "Epoch 13/200\n",
      "10/10 [==============================] - 2s 192ms/step - loss: 0.4421 - sparse_categorical_accuracy: 0.8469 - val_loss: 0.6551 - val_sparse_categorical_accuracy: 0.8254\n",
      "Epoch 14/200\n",
      "10/10 [==============================] - 2s 188ms/step - loss: 0.2100 - sparse_categorical_accuracy: 0.9388 - val_loss: 0.8550 - val_sparse_categorical_accuracy: 0.7619\n",
      "Epoch 15/200\n",
      "10/10 [==============================] - 2s 188ms/step - loss: 0.4625 - sparse_categorical_accuracy: 0.8673 - val_loss: 0.9637 - val_sparse_categorical_accuracy: 0.7778\n",
      "Epoch 16/200\n",
      "10/10 [==============================] - 2s 188ms/step - loss: 0.6014 - sparse_categorical_accuracy: 0.8299 - val_loss: 0.6879 - val_sparse_categorical_accuracy: 0.8095\n",
      "Epoch 17/200\n",
      "10/10 [==============================] - 2s 189ms/step - loss: 0.3356 - sparse_categorical_accuracy: 0.9150 - val_loss: 0.3741 - val_sparse_categorical_accuracy: 0.9286\n",
      "Epoch 18/200\n",
      "10/10 [==============================] - 2s 186ms/step - loss: 0.1573 - sparse_categorical_accuracy: 0.9626 - val_loss: 0.2660 - val_sparse_categorical_accuracy: 0.9048\n",
      "Epoch 19/200\n",
      "10/10 [==============================] - 2s 186ms/step - loss: 0.0465 - sparse_categorical_accuracy: 0.9932 - val_loss: 0.2651 - val_sparse_categorical_accuracy: 0.9206\n",
      "Epoch 20/200\n",
      "10/10 [==============================] - 2s 182ms/step - loss: 0.0221 - sparse_categorical_accuracy: 0.9932 - val_loss: 0.2701 - val_sparse_categorical_accuracy: 0.9365\n",
      "Epoch 21/200\n",
      "10/10 [==============================] - 2s 186ms/step - loss: 0.0091 - sparse_categorical_accuracy: 1.0000 - val_loss: 0.2480 - val_sparse_categorical_accuracy: 0.9524\n",
      "Epoch 22/200\n",
      "10/10 [==============================] - 2s 188ms/step - loss: 0.0048 - sparse_categorical_accuracy: 0.9966 - val_loss: 0.3378 - val_sparse_categorical_accuracy: 0.8889\n",
      "Epoch 23/200\n",
      "10/10 [==============================] - 2s 186ms/step - loss: 0.0709 - sparse_categorical_accuracy: 0.9898 - val_loss: 0.3386 - val_sparse_categorical_accuracy: 0.9206\n",
      "Epoch 24/200\n",
      "10/10 [==============================] - 2s 190ms/step - loss: 0.0391 - sparse_categorical_accuracy: 0.9966 - val_loss: 0.4761 - val_sparse_categorical_accuracy: 0.8651\n",
      "Epoch 25/200\n",
      "10/10 [==============================] - 2s 182ms/step - loss: 0.0179 - sparse_categorical_accuracy: 0.9932 - val_loss: 0.2690 - val_sparse_categorical_accuracy: 0.9127\n",
      "Epoch 26/200\n",
      "10/10 [==============================] - 2s 183ms/step - loss: 0.0077 - sparse_categorical_accuracy: 0.9966 - val_loss: 0.2260 - val_sparse_categorical_accuracy: 0.9206\n",
      "Epoch 27/200\n",
      "10/10 [==============================] - 2s 169ms/step - loss: 0.0020 - sparse_categorical_accuracy: 1.0000 - val_loss: 0.1910 - val_sparse_categorical_accuracy: 0.9683\n",
      "Epoch 28/200\n",
      "10/10 [==============================] - 2s 161ms/step - loss: 8.9578e-04 - sparse_categorical_accuracy: 1.0000 - val_loss: 0.1966 - val_sparse_categorical_accuracy: 0.9603\n",
      "Epoch 29/200\n",
      "10/10 [==============================] - 2s 167ms/step - loss: 5.0160e-04 - sparse_categorical_accuracy: 1.0000 - val_loss: 0.1964 - val_sparse_categorical_accuracy: 0.9603\n",
      "Epoch 30/200\n",
      "10/10 [==============================] - 2s 167ms/step - loss: 2.9593e-04 - sparse_categorical_accuracy: 1.0000 - val_loss: 0.2027 - val_sparse_categorical_accuracy: 0.9444\n",
      "Epoch 31/200\n",
      "10/10 [==============================] - 2s 166ms/step - loss: 2.2565e-04 - sparse_categorical_accuracy: 1.0000 - val_loss: 0.2097 - val_sparse_categorical_accuracy: 0.9444\n",
      "Epoch 32/200\n",
      "10/10 [==============================] - 2s 183ms/step - loss: 1.8024e-04 - sparse_categorical_accuracy: 1.0000 - val_loss: 0.2196 - val_sparse_categorical_accuracy: 0.9365\n",
      "Epoch 33/200\n",
      "10/10 [==============================] - 2s 182ms/step - loss: 1.4809e-04 - sparse_categorical_accuracy: 1.0000 - val_loss: 0.2256 - val_sparse_categorical_accuracy: 0.9365\n",
      "Epoch 34/200\n",
      "10/10 [==============================] - 2s 186ms/step - loss: 1.2987e-04 - sparse_categorical_accuracy: 1.0000 - val_loss: 0.2334 - val_sparse_categorical_accuracy: 0.9365\n",
      "Epoch 35/200\n",
      "10/10 [==============================] - 2s 191ms/step - loss: 1.1396e-04 - sparse_categorical_accuracy: 1.0000 - val_loss: 0.2396 - val_sparse_categorical_accuracy: 0.9286\n",
      "Epoch 36/200\n",
      "10/10 [==============================] - 2s 186ms/step - loss: 1.0369e-04 - sparse_categorical_accuracy: 1.0000 - val_loss: 0.2434 - val_sparse_categorical_accuracy: 0.9286\n",
      "Epoch 37/200\n",
      "10/10 [==============================] - 2s 191ms/step - loss: 9.3582e-05 - sparse_categorical_accuracy: 1.0000 - val_loss: 0.2497 - val_sparse_categorical_accuracy: 0.9286\n",
      "Epoch 38/200\n",
      "10/10 [==============================] - 2s 188ms/step - loss: 8.4566e-05 - sparse_categorical_accuracy: 1.0000 - val_loss: 0.2564 - val_sparse_categorical_accuracy: 0.9286\n",
      "Epoch 39/200\n",
      "10/10 [==============================] - 2s 185ms/step - loss: 7.8221e-05 - sparse_categorical_accuracy: 1.0000 - val_loss: 0.2609 - val_sparse_categorical_accuracy: 0.9286\n",
      "Epoch 40/200\n",
      "10/10 [==============================] - 2s 189ms/step - loss: 7.2105e-05 - sparse_categorical_accuracy: 1.0000 - val_loss: 0.2665 - val_sparse_categorical_accuracy: 0.9286\n",
      "Epoch 41/200\n",
      "10/10 [==============================] - 2s 191ms/step - loss: 6.6836e-05 - sparse_categorical_accuracy: 1.0000 - val_loss: 0.2721 - val_sparse_categorical_accuracy: 0.9286\n",
      "Epoch 42/200\n",
      "10/10 [==============================] - 2s 191ms/step - loss: 6.1617e-05 - sparse_categorical_accuracy: 1.0000 - val_loss: 0.2760 - val_sparse_categorical_accuracy: 0.9286\n",
      "Epoch 43/200\n",
      "10/10 [==============================] - 2s 189ms/step - loss: 5.7462e-05 - sparse_categorical_accuracy: 1.0000 - val_loss: 0.2852 - val_sparse_categorical_accuracy: 0.9286\n",
      "Epoch 44/200\n",
      "10/10 [==============================] - 2s 186ms/step - loss: 5.4242e-05 - sparse_categorical_accuracy: 1.0000 - val_loss: 0.2891 - val_sparse_categorical_accuracy: 0.9286\n",
      "Epoch 45/200\n",
      "10/10 [==============================] - 2s 188ms/step - loss: 5.0646e-05 - sparse_categorical_accuracy: 1.0000 - val_loss: 0.2955 - val_sparse_categorical_accuracy: 0.9286\n"
     ]
    },
    {
     "name": "stdout",
     "output_type": "stream",
     "text": [
      "Epoch 46/200\n",
      "10/10 [==============================] - 2s 188ms/step - loss: 4.7583e-05 - sparse_categorical_accuracy: 1.0000 - val_loss: 0.2984 - val_sparse_categorical_accuracy: 0.9286\n",
      "Epoch 47/200\n",
      "10/10 [==============================] - 2s 186ms/step - loss: 4.4787e-05 - sparse_categorical_accuracy: 1.0000 - val_loss: 0.3043 - val_sparse_categorical_accuracy: 0.9286\n"
     ]
    }
   ],
   "source": [
    "from keras.callbacks import EarlyStopping\n",
    "es1 = EarlyStopping(patience=20, monitor=\"val_sparse_categorical_accuracy\", mode=\"auto\")\n",
    "es2 = EarlyStopping(patience=20, monitor=\"val_loss\", mode=\"auto\")\n",
    "\n",
    "#The neural network will stop fitting if it gets 20 epochs without converge\n",
    "\n",
    "history = model.fit(x=X_train,\n",
    "                    y=y_train,\n",
    "                    epochs=200,\n",
    "                    validation_split=0.3,\n",
    "                    callbacks=[es1, es2])"
   ]
  },
  {
   "cell_type": "code",
   "execution_count": 43,
   "id": "865a9167",
   "metadata": {},
   "outputs": [
    {
     "name": "stdout",
     "output_type": "stream",
     "text": [
      "6/6 [==============================] - 0s 52ms/step - loss: 0.2998 - sparse_categorical_accuracy: 0.9167\n",
      "Test lost:  0.2998027503490448\n",
      "Test Accuracy:  0.9166666865348816\n"
     ]
    }
   ],
   "source": [
    "score=model.evaluate(X_test, y_test)\n",
    "print(\"Test lost: \",score[0])\n",
    "print(\"Test Accuracy: \",score[1])"
   ]
  },
  {
   "cell_type": "code",
   "execution_count": 44,
   "id": "ae59dab0",
   "metadata": {},
   "outputs": [
    {
     "name": "stdout",
     "output_type": "stream",
     "text": [
      "[[[255. 255. 255.]\n",
      "  [255. 255. 255.]\n",
      "  [255. 255. 255.]\n",
      "  ...\n",
      "  [255. 255. 255.]\n",
      "  [255. 255. 255.]\n",
      "  [255. 255. 255.]]\n",
      "\n",
      " [[255. 255. 255.]\n",
      "  [255. 255. 255.]\n",
      "  [255. 255. 255.]\n",
      "  ...\n",
      "  [255. 255. 255.]\n",
      "  [255. 255. 255.]\n",
      "  [255. 255. 255.]]\n",
      "\n",
      " [[255. 255. 255.]\n",
      "  [255. 255. 255.]\n",
      "  [255. 255. 255.]\n",
      "  ...\n",
      "  [255. 255. 255.]\n",
      "  [255. 255. 255.]\n",
      "  [255. 255. 255.]]\n",
      "\n",
      " ...\n",
      "\n",
      " [[255. 255. 255.]\n",
      "  [255. 255. 255.]\n",
      "  [255. 255. 255.]\n",
      "  ...\n",
      "  [255. 255. 255.]\n",
      "  [255. 255. 255.]\n",
      "  [255. 255. 255.]]\n",
      "\n",
      " [[255. 255. 255.]\n",
      "  [255. 255. 255.]\n",
      "  [255. 255. 255.]\n",
      "  ...\n",
      "  [255. 255. 255.]\n",
      "  [255. 255. 255.]\n",
      "  [255. 255. 255.]]\n",
      "\n",
      " [[255. 255. 255.]\n",
      "  [255. 255. 255.]\n",
      "  [255. 255. 255.]\n",
      "  ...\n",
      "  [255. 255. 255.]\n",
      "  [255. 255. 255.]\n",
      "  [255. 255. 255.]]]\n",
      "(28, 28, 3)\n",
      "1/1 [==============================] - 0s 331ms/step\n",
      "1/1 [==============================] - 0s 62ms/step\n",
      "[45]\n"
     ]
    },
    {
     "data": {
      "image/png": "[encoded data removed]",
      "text/plain": [
       "<Figure size 432x288 with 1 Axes>"
      ]
     },
     "metadata": {
      "needs_background": "light"
     },
     "output_type": "display_data"
    }
   ],
   "source": [
    "from tensorflow.keras.preprocessing import image\n",
    "img=image.load_img('content/example_th.jpg',target_size=(28, 28,3))\n",
    "\n",
    "plt.imshow(img)\n",
    "\n",
    "x=image.img_to_array(img)\n",
    "print(x)\n",
    "\n",
    "print(x.shape)\n",
    "\n",
    "x=np.expand_dims(x,axis=0)\n",
    "model.predict(x)\n",
    "\n",
    "a=np.argmax(model.predict(x), axis=1)\n",
    "print(a)"
   ]
  },
  {
   "cell_type": "code",
   "execution_count": 45,
   "id": "ee7bf50c",
   "metadata": {},
   "outputs": [
    {
     "name": "stdout",
     "output_type": "stream",
     "text": [
      "ഥ\n"
     ]
    }
   ],
   "source": [
    "if a==[0]:\n",
    "  print('അ')\n",
    "elif a==[1]:\n",
    "  print('ആ')\n",
    "elif a==[2]:\n",
    "  print('ഐ')\n",
    "elif a==[3]:\n",
    "  print('ഔ') \n",
    "elif a==[4]:\n",
    "  print('ബ')\n",
    "elif a==[5]:\n",
    "  print('ഭ')\n",
    "elif a==[6]:\n",
    "  print('ച')\n",
    "elif a==[7]:\n",
    "  print('ഛ')\n",
    "elif a==[8]:\n",
    "  print('ദ')\n",
    "elif a==[9]:\n",
    "  print('ഡ')\n",
    "elif a==[10]:\n",
    "  print('ഢ')\n",
    "elif a==[11]:\n",
    "  print('ധ')\n",
    "elif a==[12]:\n",
    "  print('എ')\n",
    "elif a==[13]:\n",
    "  print('ഏ')\n",
    "elif a==[14]:\n",
    "  print('ഫ')\n",
    "elif a==[15]:\n",
    "  print('ഗ')\n",
    "elif a==[16]:\n",
    "  print('ഘ')\n",
    "elif a==[17]:\n",
    "  print('ഹ')\n",
    "elif a==[18]:\n",
    "  print('ഇ')\n",
    "elif a==[19]:\n",
    "  print('ഈ')\n",
    "elif a==[20]:\n",
    "  print('ജ')\n",
    "elif a==[21]:\n",
    "  print('ഝ')\n",
    "elif a==[22]:\n",
    "  print('ക')\n",
    "elif a==[23]:\n",
    "  print('ഖ')\n",
    "elif a==[24]:\n",
    "  print('ക്ഷ')  \n",
    "elif a==[25]:\n",
    "  print('ല')\n",
    "elif a==[26]:\n",
    "  print('ഴ')\n",
    "elif a==[27]:\n",
    "  print('ഌ')\n",
    "elif a==[28]:\n",
    "  print('മ')\n",
    "elif a==[29]:\n",
    "  print('ന')\n",
    "elif a==[30]:\n",
    "  print('ഞ')\n",
    "elif a==[31]:\n",
    "  print('ഩ')\n",
    "elif a==[32]:\n",
    "  print('ണ')\n",
    "elif a==[33]:\n",
    "  print('ങ')\n",
    "elif a==[34]:\n",
    "  print('ഒ')\n",
    "elif a==[35]:\n",
    "  print('ഓ')\n",
    "elif a==[36]:\n",
    "  print('പ')\n",
    "elif a==[37]:\n",
    "  print('ര')\n",
    "elif a==[38]:\n",
    "  print('റ')\n",
    "elif a==[39]:\n",
    "  print('സ')\n",
    "elif a==[40]:\n",
    "  print('ശ')\n",
    "elif a==[41]:\n",
    "  print('ഷ')\n",
    "elif a==[42]:\n",
    "  print('ത')\n",
    "elif a==[43]:\n",
    "  print('ട')\n",
    "elif a==[44]:\n",
    "  print('ഠ')\n",
    "elif a==[45]:\n",
    "  print('ഥ')\n",
    "elif a==[46]:\n",
    "  print('ഉ')\n",
    "elif a==[47]:\n",
    "  print('ഊ')\n",
    "elif a==[48]:\n",
    "  print('വ')\n",
    "elif a==[49]:\n",
    "  print('യ')"
   ]
  },
  {
   "cell_type": "code",
   "execution_count": 47,
   "id": "8fca3f5d",
   "metadata": {},
   "outputs": [],
   "source": [
    "model_json = model.to_json()\n",
    "with open(\"model.json\", \"w\") as json_file:\n",
    "    json_file.write(model_json)\n",
    "keras_file=\"Model.h5\"\n",
    "tf.keras.models.save_model(model,keras_file)"
   ]
  },
  {
   "cell_type": "code",
   "execution_count": 46,
   "id": "bd8226da",
   "metadata": {},
   "outputs": [
    {
     "name": "stdout",
     "output_type": "stream",
     "text": [
      "Model: \"sequential_1\"\n",
      "_________________________________________________________________\n",
      " Layer (type)                Output Shape              Param #   \n",
      "=================================================================\n",
      " conv2d_5 (Conv2D)           (None, 28, 28, 64)        4864      \n",
      "                                                                 \n",
      " conv2d_6 (Conv2D)           (None, 28, 28, 64)        36928     \n",
      "                                                                 \n",
      " max_pooling2d_4 (MaxPooling  (None, 14, 14, 64)       0         \n",
      " 2D)                                                             \n",
      "                                                                 \n",
      " conv2d_7 (Conv2D)           (None, 14, 14, 64)        36928     \n",
      "                                                                 \n",
      " max_pooling2d_5 (MaxPooling  (None, 7, 7, 64)         0         \n",
      " 2D)                                                             \n",
      "                                                                 \n",
      " conv2d_8 (Conv2D)           (None, 7, 7, 64)          36928     \n",
      "                                                                 \n",
      " max_pooling2d_6 (MaxPooling  (None, 3, 3, 64)         0         \n",
      " 2D)                                                             \n",
      "                                                                 \n",
      " conv2d_9 (Conv2D)           (None, 3, 3, 64)          36928     \n",
      "                                                                 \n",
      " max_pooling2d_7 (MaxPooling  (None, 1, 1, 64)         0         \n",
      " 2D)                                                             \n",
      "                                                                 \n",
      " flatten_1 (Flatten)         (None, 64)                0         \n",
      "                                                                 \n",
      " dense_4 (Dense)             (None, 1024)              66560     \n",
      "                                                                 \n",
      " dense_5 (Dense)             (None, 576)               590400    \n",
      "                                                                 \n",
      " dense_6 (Dense)             (None, 288)               166176    \n",
      "                                                                 \n",
      " dense_7 (Dense)             (None, 50)                14450     \n",
      "                                                                 \n",
      "=================================================================\n",
      "Total params: 990,162\n",
      "Trainable params: 990,162\n",
      "Non-trainable params: 0\n",
      "_________________________________________________________________\n"
     ]
    }
   ],
   "source": [
    "model.summary()"
   ]
  },
  {
   "cell_type": "code",
   "execution_count": null,
   "id": "6a58709b",
   "metadata": {},
   "outputs": [],
   "source": []
  }
 ],
 "metadata": {
  "kernelspec": {
   "display_name": "Python 3 (ipykernel)",
   "language": "python",
   "name": "python3"
  },
  "language_info": {
   "codemirror_mode": {
    "name": "ipython",
    "version": 3
   },
   "file_extension": ".py",
   "mimetype": "text/x-python",
   "name": "python",
   "nbconvert_exporter": "python",
   "pygments_lexer": "ipython3",
   "version": "3.9.12"
  }
 },
 "nbformat": 4,
 "nbformat_minor": 5
}
